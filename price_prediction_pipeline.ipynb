{
 "cells": [
  {
   "cell_type": "code",
   "execution_count": 2,
   "metadata": {},
   "outputs": [],
   "source": [
    "import pandas as pd\n",
    "import numpy as np\n",
    "from sklearn.compose import ColumnTransformer\n",
    "from sklearn.pipeline import Pipeline\n",
    "from sklearn.linear_model import LinearRegression\n",
    "from sklearn.preprocessing import StandardScaler\n",
    "from sklearn.model_selection import train_test_split\n",
    "from sklearn.metrics import mean_squared_error, mean_absolute_error, r2_score"
   ]
  },
  {
   "cell_type": "code",
   "execution_count": 3,
   "metadata": {},
   "outputs": [
    {
     "name": "stdout",
     "output_type": "stream",
     "text": [
      "Linear Regression - Performance:\n",
      "RMSE: 16.41133953244782\n",
      "MAE: 5.815640087222708\n",
      "R2: 0.9999992966246646\n"
     ]
    }
   ],
   "source": [
    "# Load the data\n",
    "data = pd.read_csv(\"btcusd_1-min_data.csv\")\n",
    "data.dropna(inplace=True)\n",
    "\n",
    "# Convert 'Timestamp' to datetime and sort by time\n",
    "data['Timestamp'] = pd.to_datetime(data['Timestamp'])\n",
    "data = data.sort_values(by='Timestamp', ascending=True)\n",
    "\n",
    "# Create new features for the next day's High, Low, and Close prices\n",
    "data['Next_High'] = data['High'].shift(1)\n",
    "data['Next_Low'] = data['Low'].shift(1)\n",
    "data['Next_Close'] = data['Close'].shift(1)\n",
    "\n",
    "# Drop rows with NaN values resulting from the shift\n",
    "data = data.dropna(subset=['Next_High', 'Next_Low', 'Next_Close'])\n",
    "\n",
    "# Drop unnecessary columns\n",
    "data = data.drop(columns=['Timestamp'])\n",
    "\n",
    "# Define the features and target columns\n",
    "features = ['Open', 'High', 'Low', 'Close', 'Volume']\n",
    "target = ['Next_High', 'Next_Low', 'Next_Close']\n",
    "\n",
    "X = data[features]\n",
    "y = data[target]\n",
    "\n",
    "# Ensure alignment of X and y\n",
    "assert len(X) == len(y), \"X and y are not aligned!\"\n",
    "\n",
    "# Split the dataset into training and testing sets\n",
    "X_train, X_test, y_train, y_test = train_test_split(X, y, test_size=0.2, random_state=42)\n",
    "\n",
    "# Define the pipeline\n",
    "pipeline = Pipeline([\n",
    "    # StandardScaler for scaling features\n",
    "    ('scaler', ColumnTransformer([\n",
    "        ('scale_features', StandardScaler(), features)\n",
    "    ], remainder='passthrough')),\n",
    "    \n",
    "    # Linear Regression Model\n",
    "    ('model', LinearRegression())\n",
    "])\n",
    "\n",
    "# Train the pipeline\n",
    "pipeline.fit(X_train, y_train)\n",
    "\n",
    "# Make predictions\n",
    "y_pred = pipeline.predict(X_test)\n",
    "\n",
    "# Evaluate the model\n",
    "print(\"Linear Regression - Performance:\")\n",
    "print(f\"RMSE: {mean_squared_error(y_test, y_pred, squared=False)}\")\n",
    "print(f\"MAE: {mean_absolute_error(y_test, y_pred)}\")\n",
    "print(f\"R2: {r2_score(y_test, y_pred)}\")"
   ]
  },
  {
   "cell_type": "code",
   "execution_count": 4,
   "metadata": {},
   "outputs": [],
   "source": [
    "# Function to predict next High, Low, Close from user input\n",
    "def predict_next_prices(pipeline, input_features):\n",
    "    input_df = pd.DataFrame([input_features], columns=features)\n",
    "    prediction = pipeline.predict(input_df)\n",
    "    return prediction"
   ]
  },
  {
   "cell_type": "code",
   "execution_count": 6,
   "metadata": {},
   "outputs": [
    {
     "name": "stdout",
     "output_type": "stream",
     "text": [
      "Predicted Next High, Low, Close: [[101755.3330404   99445.14322964 100481.98579081]]\n"
     ]
    }
   ],
   "source": [
    "# Example user input\n",
    "user_input = {\n",
    "    'Open': 100491,\n",
    "    'High': 100616,\n",
    "    'Low': 97515,\n",
    "    'Close': 100050,\n",
    "    'Volume': 74990\n",
    "}\n",
    "\n",
    "# Predict next High, Low, and Close\n",
    "predicted_values = predict_next_prices(pipeline, user_input)\n",
    "print(f\"Predicted Next High, Low, Close: {predicted_values}\")"
   ]
  },
  {
   "cell_type": "code",
   "execution_count": null,
   "metadata": {},
   "outputs": [],
   "source": []
  }
 ],
 "metadata": {
  "kernelspec": {
   "display_name": "Python 3",
   "language": "python",
   "name": "python3"
  },
  "language_info": {
   "codemirror_mode": {
    "name": "ipython",
    "version": 3
   },
   "file_extension": ".py",
   "mimetype": "text/x-python",
   "name": "python",
   "nbconvert_exporter": "python",
   "pygments_lexer": "ipython3",
   "version": "3.11.1"
  }
 },
 "nbformat": 4,
 "nbformat_minor": 2
}
